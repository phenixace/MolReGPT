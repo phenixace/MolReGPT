{
 "cells": [
  {
   "cell_type": "code",
   "execution_count": 1,
   "metadata": {},
   "outputs": [],
   "source": [
    "import openai\n",
    "\n",
    "api_key = \"YOUR_API_KEY\"\n",
    "openai.api_key = api_key"
   ]
  },
  {
   "attachments": {},
   "cell_type": "markdown",
   "metadata": {},
   "source": [
    "You are now working as an excellent expert in chemisrty and drug discovery. Given the SMILES representation of a molecule, your job is to predict the caption of the molecule. The molecule caption is a sentence that describes the molecule, which mainly describes the molecule's structures, properties, and production.\n",
    "\n",
    "Example 1: \n",
    "``` \n",
    "Instruction: Given the SMILES representation of a molecule, predict the caption of the molecule. \n",
    "Input: CCCCCCCCCCCCCCCC(=O)OC(CCCCCCCCC)CCCCCCCC(=O)O\n",
    "``` \n",
    "\n",
    "Your output should be: \n",
    "``` \n",
    "{\"caption\": \"The molecule is a FAHFA (fatty acid ester of a hydroxy fatty acid) obtained by formal condensation of the carboxy group of palmitic acid with the hydroxy group of 9-hydroxyoctadecanoic acid (9-hydroxystearic acid). It has a role as a human metabolite, a hypoglycemic agent and an anti-inflammatory agent. It is a FAHFA and a long-chain fatty acid. It derives from a hexadecanoic acid and an octadecanoic acid. It is a conjugate acid of a 9-PAHSA(1-).\"} \n",
    "```\n",
    "\n",
    "Your response should only be in the JSON format above; THERE SHOULD BE NO OTHER CONTENT INCLUDED IN YOUR RESPONSE.\n",
    "\n",
    "Input: CC1=CC2=C(C=C1)C(CCC2)(C)C\n"
   ]
  },
  {
   "cell_type": "code",
   "execution_count": 2,
   "metadata": {},
   "outputs": [],
   "source": [
    "head_prompt = \"You are now working as an excellent expert in chemisrty and drug discovery. Given the SMILES representation of a molecule, your job is to predict the caption of the molecule. The molecule caption is a sentence that describes the molecule, which mainly describes the molecule's structures, properties, and production.\\n\" \\\n",
    "        + \"\\n\" \\\n",
    "        + \"Example 1: \\n\" \\\n",
    "        + \"```\\n\" \\\n",
    "        + \"Instruction: Given the SMILES representation of a molecule, predict the caption of the molecule.\\n\" \\\n",
    "        + \"Input: CCCCCCCCCCCCCCCC(=O)OC(CCCCCCCCC)CCCCCCCC(=O)O\\n\" \\\n",
    "        + \"```\\n\" \\\n",
    "        + \"\\n\" \\\n",
    "        + \"Your output should be: \\n\" \\\n",
    "        + \"```\\n\" \\\n",
    "        + \"{\\\"caption\\\": \\\"The molecule is a FAHFA (fatty acid ester of a hydroxy fatty acid) obtained by formal condensation of the carboxy group of palmitic acid with the hydroxy group of 9-hydroxyoctadecanoic acid (9-hydroxystearic acid). It has a role as a human metabolite, a hypoglycemic agent and an anti-inflammatory agent. It is a FAHFA and a long-chain fatty acid. It derives from a hexadecanoic acid and an octadecanoic acid. It is a conjugate acid of a 9-PAHSA(1-).\\\"}\" \\\n",
    "        + \"```\\n\" \\\n",
    "        + \"\\n\" \\\n",
    "        + \"Your response should only be in the JSON format above; THERE SHOULD BE NO OTHER CONTENT INCLUDED IN YOUR RESPONSE. \""
   ]
  },
  {
   "cell_type": "code",
   "execution_count": 3,
   "metadata": {},
   "outputs": [],
   "source": [
    "input_prompt = \"Input: CC1=CC2=C(C=C1)C(CCC2)(C)C\\n\""
   ]
  },
  {
   "cell_type": "code",
   "execution_count": 4,
   "metadata": {},
   "outputs": [
    {
     "name": "stdout",
     "output_type": "stream",
     "text": [
      "{\"caption\": \"The molecule is a terpene, specifically a bicyclic monoterpene. It has a role as a plant metabolite and a volatile oil component. It is a member of pinenes and a monocyclic monoterpenoid. It derives from an alpha-pinene by cyclization of the endocyclic double bond. It is a colorless liquid with a pleasant odor, commonly found in the essential oils of many types of plants.\"}\n"
     ]
    }
   ],
   "source": [
    "# chatgpt response\n",
    "res1 = openai.ChatCompletion.create(\n",
    "            model=\"gpt-3.5-turbo\",\n",
    "            messages=[\n",
    "                    {\"role\": \"system\", \"content\": head_prompt},\n",
    "                    {\"role\": \"user\", \"content\": input_prompt},\n",
    "                ]\n",
    "            )\n",
    "\n",
    "print(res1['choices'][0]['message']['content'].strip('\\n'))"
   ]
  },
  {
   "attachments": {},
   "cell_type": "markdown",
   "metadata": {},
   "source": [
    "You are now working as an excellent expert in chemisrty and drug discovery. Given the caption of a molecule, your job is to predict the SMILES representation of the molecule. The molecule caption is a sentence that describes the molecule, which mainly describes the molecule's structures, properties, and production. You can infer the molecule SMILES representation from the caption.\n",
    "\n",
    "Example 1: \n",
    "``` \n",
    "Instruction: Given the caption of a molecule, predict the SMILES representation of the molecule. \n",
    "Input: The molecule is a FAHFA (fatty acid ester of a hydroxy fatty acid) obtained by formal condensation of the carboxy group of palmitic acid with the hydroxy group of 9-hydroxyoctadecanoic acid (9-hydroxystearic acid). It has a role as a human metabolite, a hypoglycemic agent and an anti-inflammatory agent. It is a FAHFA and a long-chain fatty acid. It derives from a hexadecanoic acid and an octadecanoic acid. It is a conjugate acid of a 9-PAHSA(1-).\n",
    "``` \n",
    "\n",
    "Your output should be: \n",
    "``` \n",
    "{\"molecule\": \"CCCCCCCCCCCCCCCC(=O)OC(CCCCCCCCC)CCCCCCCC(=O)O\"} \n",
    "```\n",
    "\n",
    "Your response should only be in the JSON format above; THERE SHOULD BE NO OTHER CONTENT INCLUDED IN YOUR RESPONSE. "
   ]
  },
  {
   "cell_type": "code",
   "execution_count": 5,
   "metadata": {},
   "outputs": [],
   "source": [
    "head_prompt = \"You are now working as an excellent expert in chemisrty and drug discovery. Given the caption of a molecule, your job is to predict the SMILES representation of the molecule. The molecule caption is a sentence that describes the molecule, which mainly describes the molecule's structures, properties, and production. You can infer the molecule SMILES representation from the caption.\\n\" \\\n",
    "        + \"\\n\" \\\n",
    "        + \"Example 1: \\n\" \\\n",
    "        + \"```\\n\" \\\n",
    "        + \"Instruction: Given the caption of a molecule, predict the SMILES representation of the molecule.\\n\" \\\n",
    "        + \"Input: The molecule is a FAHFA (fatty acid ester of a hydroxy fatty acid) obtained by formal condensation of the carboxy group of palmitic acid with the hydroxy group of 9-hydroxyoctadecanoic acid (9-hydroxystearic acid). It has a role as a human metabolite, a hypoglycemic agent and an anti-inflammatory agent. It is a FAHFA and a long-chain fatty acid. It derives from a hexadecanoic acid and an octadecanoic acid. It is a conjugate acid of a 9-PAHSA(1-).\\n\" \\\n",
    "        + \"```\\n\" \\\n",
    "        + \"\\n\" \\\n",
    "        + \"Your output should be: \\n\" \\\n",
    "        + \"```\\n\" \\\n",
    "        + \"{\\\"molecule\\\": \\\"CCCCCCCCCCCCCCCC(=O)OC(CCCCCCCCC)CCCCCCCC(=O)O\\\"}\" \\\n",
    "        + \"```\\n\" \\\n",
    "        + \"\\n\" \\\n",
    "        + \"Your response should only be in the JSON format above; THERE SHOULD BE NO OTHER CONTENT INCLUDED IN YOUR RESPONSE. \""
   ]
  },
  {
   "cell_type": "code",
   "execution_count": 6,
   "metadata": {},
   "outputs": [],
   "source": [
    "input_prompt = \"Input: The molecule is a member of the class of tetralins that is tetralin substituted by methyl groups at positions 1, 1 and 6 respectively. It has a role as a metabolite. It is a member of tetralins and an ortho-fused bicyclic hydrocarbon. It derives from a hydride of a tetralin.\\n\""
   ]
  },
  {
   "cell_type": "code",
   "execution_count": 7,
   "metadata": {},
   "outputs": [
    {
     "name": "stdout",
     "output_type": "stream",
     "text": [
      "Output: {\"molecule\": \"CC1=CC(=CC2=C1CCC(C2)(C)C)C\"}\n"
     ]
    }
   ],
   "source": [
    "res1 = openai.ChatCompletion.create(\n",
    "            model=\"gpt-3.5-turbo\",\n",
    "            messages=[\n",
    "                    {\"role\": \"system\", \"content\": head_prompt},\n",
    "                    {\"role\": \"user\", \"content\": input_prompt},\n",
    "                ]\n",
    "            )\n",
    "\n",
    "print(res1['choices'][0]['message']['content'].strip('\\n'))"
   ]
  }
 ],
 "metadata": {
  "kernelspec": {
   "display_name": "base",
   "language": "python",
   "name": "python3"
  },
  "language_info": {
   "codemirror_mode": {
    "name": "ipython",
    "version": 3
   },
   "file_extension": ".py",
   "mimetype": "text/x-python",
   "name": "python",
   "nbconvert_exporter": "python",
   "pygments_lexer": "ipython3",
   "version": "3.9.13"
  },
  "orig_nbformat": 4
 },
 "nbformat": 4,
 "nbformat_minor": 2
}
